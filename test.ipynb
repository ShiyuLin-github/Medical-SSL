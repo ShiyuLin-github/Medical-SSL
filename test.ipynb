{
 "cells": [
  {
   "cell_type": "code",
   "execution_count": null,
   "metadata": {},
   "outputs": [],
   "source": [
    "import numpy as np\n",
    "import torch\n",
    "import torchio.transforms\n",
    "from tqdm import tqdm\n",
    "import os\n",
    "import glob\n",
    "import SimpleITK as sitk\n",
    "from scipy import ndimage\n",
    "import copy\n",
    "import random\n",
    "import time\n",
    "import numpy as np\n",
    "import torch\n",
    "from PIL import Image\n",
    "from scipy.special import comb\n",
    "from torch.utils.data import Dataset\n"
   ]
  },
  {
   "cell_type": "markdown",
   "metadata": {},
   "source": [
    "## 其他"
   ]
  },
  {
   "cell_type": "markdown",
   "metadata": {},
   "source": [
    "测试CUDA"
   ]
  },
  {
   "cell_type": "code",
   "execution_count": null,
   "metadata": {},
   "outputs": [],
   "source": [
    "#测试cuda\n",
    "import torch\n",
    "print(torch.__version__)\n",
    "print(torch.cuda.is_available())"
   ]
  },
  {
   "cell_type": "markdown",
   "metadata": {},
   "source": [
    "查看permutations文件"
   ]
  },
  {
   "cell_type": "code",
   "execution_count": null,
   "metadata": {},
   "outputs": [],
   "source": [
    "k_permutations_path = r'datasets_3D\\Rubik_cube\\permutaions\\permutations_hamming_max_100.npy'\n",
    "K_permutations = np.load(k_permutations_path)\n",
    "#可以用vscode自带的数据查看器查看"
   ]
  },
  {
   "cell_type": "markdown",
   "metadata": {},
   "source": [
    "测试np.flip产生的错误step must be greater than zero"
   ]
  },
  {
   "cell_type": "code",
   "execution_count": null,
   "metadata": {},
   "outputs": [],
   "source": [
    "x = torch.randn(10, 10)\n",
    "# x[:, ::-1]\n",
    "# > ValueError: step must be greater than zero\n",
    "x.numpy()[:, ::-1] # works\n"
   ]
  },
  {
   "cell_type": "code",
   "execution_count": null,
   "metadata": {},
   "outputs": [],
   "source": [
    "\n",
    "a = np.random.randn(10, 10)\n",
    "a.strides\n",
    "# > (80, 8)\n"
   ]
  },
  {
   "cell_type": "code",
   "execution_count": null,
   "metadata": {},
   "outputs": [],
   "source": [
    "a = np.flip(a)\n",
    "a.strides\n",
    "# > (-80, -8) strides的涵义我收藏了一篇文章可以翻阅\n",
    "\n",
    "x = torch.from_numpy(a)\n",
    "# > ValueError: At least one stride in the given numpy array is negative, and tensors with negative strides are not currently supported. (You can probably work around this by making a copy of your array  with array.copy().) \n",
    "\n",
    "x = torch.from_numpy(a.copy()) # works\n",
    "x.stride()\n",
    "# > (10, 1)"
   ]
  },
  {
   "cell_type": "markdown",
   "metadata": {},
   "source": [
    "## 测试MRI_rkb_plus_pretask中的get_item"
   ]
  },
  {
   "cell_type": "markdown",
   "metadata": {},
   "source": [
    "### 测试全代码"
   ]
  },
  {
   "cell_type": "markdown",
   "metadata": {},
   "source": [
    "设置假设input"
   ]
  },
  {
   "cell_type": "code",
   "execution_count": null,
   "metadata": {},
   "outputs": [],
   "source": [
    "t1 = torch.rand(240,240,155)\n",
    "print(t1.shape)"
   ]
  },
  {
   "cell_type": "markdown",
   "metadata": {},
   "source": [
    "设置假设config参数值"
   ]
  },
  {
   "cell_type": "code",
   "execution_count": null,
   "metadata": {},
   "outputs": [],
   "source": [
    "crop_size = [120, 120, 77]\n",
    "flag = 'train'\n",
    "num_grids_per_axis = 2\n",
    "num_cubes = num_grids_per_axis ** 3\n",
    "print(num_cubes)\n",
    "k_permutations_path = r'datasets_3D\\Rubik_cube\\permutaions\\permutations_hamming_max_100.npy'\n",
    "K_permutations = np.load(k_permutations_path)\n"
   ]
  },
  {
   "cell_type": "markdown",
   "metadata": {},
   "source": [
    "def会用到的一些函数（from base_rkb_pretask）"
   ]
  },
  {
   "cell_type": "code",
   "execution_count": null,
   "metadata": {},
   "outputs": [],
   "source": [
    "def crop_3d(image, flag, crop_size): # ...（对图像执行3D裁剪的方法）\n",
    "    h, w, d = crop_size[0], crop_size[1], crop_size[2]\n",
    "    h_old, w_old, d_old = image.shape[0], image.shape[1], image.shape[2]\n",
    "\n",
    "    if flag == 'train': #如果 flag 是 'train'，则进行随机裁剪。在这种情况下，生成随机的裁剪起始点 (x, y, z)，h_old-h是为了确保裁剪框不超出图像边界。\n",
    "        # crop random\n",
    "        x = np.random.randint(0, 1 + h_old - h) #返回一个随机数或随机数数组(指定size时)\n",
    "        y = np.random.randint(0, 1 + w_old - w)\n",
    "        z = np.random.randint(0, 1 + d_old - d)\n",
    "    else: #如果 flag 不是 'train'，则进行中心裁剪。计算裁剪起始点 (x, y, z) 使得裁剪的区域在图像中居中。\n",
    "        # crop center\n",
    "        x = int((h_old - h) / 2)\n",
    "        y = int((w_old - w) / 2)\n",
    "        z = int((d_old - d) / 2)\n",
    "\n",
    "    return do_crop_3d(image, x, y, z, h, w, d)\n",
    "\n",
    "def do_crop_3d(image, x, y, z, h, w, d): #3D裁剪的辅助函数，确保整数和返回对应位置的3D块\n",
    "    assert type(x) == int, x\n",
    "    assert type(y) == int, y\n",
    "    assert type(z) == int, z\n",
    "    assert type(h) == int, h\n",
    "    assert type(w) == int, w\n",
    "    assert type(d) == int, d\n",
    "\n",
    "    return image[x:x + h, y:y + w, z:z + d] #这边取的时最边界点加上crop_size的大小，解释了为何上述代码的定中心方式如此\n",
    "\n",
    "def crop_cubes_3d(image, flag, cubes_per_side, cube_jitter_xy=3, cube_jitter_z=3): #在3D图像中裁剪多个3D立方体的方法，jitter貌似是为了防止数据连续变化留出的间隔大小，从代码里可以看出如果有jitter则再次进行3D裁切，cubes_per_side应该是每个方向有多少个cube\n",
    "    h, w, d = image.shape\n",
    "\n",
    "    patch_overlap = -cube_jitter_xy if cube_jitter_xy < 0 else 0 #patch_overlap 计算了在裁剪时可能存在的重叠区域。如果 cube_jitter_xy 是负数，则 patch_overlap 采用该值；否则，为零。\n",
    "\n",
    "    #h_grid、w_grid 和 d_grid 计算了每个立方体的网格大小，以确保裁剪时没有重叠区域。\n",
    "    # 这里主要思想应该是把切出来的3D大块划分为各个小块,这里拿笔记做做数学题吧，好久没写了。\n",
    "    h_grid = (h - patch_overlap) // cubes_per_side\n",
    "    w_grid = (w - patch_overlap) // cubes_per_side\n",
    "    d_grid = (d - patch_overlap) // cubes_per_side\n",
    "    h_patch = h_grid - cube_jitter_xy\n",
    "    w_patch = w_grid - cube_jitter_xy\n",
    "    d_patch = d_grid - cube_jitter_z\n",
    "\n",
    "    cubes = []\n",
    "    for i in range(cubes_per_side):\n",
    "        for j in range(cubes_per_side):\n",
    "            for k in range(cubes_per_side):\n",
    "\n",
    "                p = do_crop_3d(image, #当i=0时，从0截取到第一个grid\n",
    "                                i * h_grid,\n",
    "                                j * w_grid,\n",
    "                                k * d_grid,\n",
    "                                h_grid + patch_overlap,\n",
    "                                w_grid + patch_overlap,\n",
    "                                d_grid + patch_overlap)\n",
    "\n",
    "                if h_patch < h_grid or w_patch < w_grid or d_patch < d_grid: #如果有jitter，则对之前裁切好的3D块再次裁切以保留jitter大小的间隔\n",
    "                    p = crop_3d(p, flag, [h_patch, w_patch, d_patch])\n",
    "\n",
    "                cubes.append(p)\n",
    "\n",
    "    return cubes\n",
    "\n",
    "def rearrange(cubes, K_permutations):  # ...根据排列重新排列立方体的方法\n",
    "    label = random.randint(0, len(K_permutations) - 1)\n",
    "    print('label', np.array(K_permutations[label]), label)\n",
    "    return np.array(cubes)[np.array(K_permutations[label])], label\n",
    "\n",
    "def center_crop_xy(image, size): # 在image中间截一个size大小的缺口，画图很容易理解\n",
    "    \"\"\"CenterCrop a sample.\n",
    "        Args:\n",
    "            image: [D, H, W]\n",
    "            label:[D, H, W]\n",
    "            crop_size: the desired output size in the x-y plane\n",
    "        Returns:\n",
    "            out_image:[D, h, w]\n",
    "            out_label:[D, h, w]\n",
    "    \"\"\"\n",
    "    h, w, d = image.shape\n",
    "\n",
    "    h1 = int(round((h - size[0]) / 2.)) #round() 函数将结果四舍五入为最接近的整数，确保裁剪区域的起始点是整数。\n",
    "    w1 = int(round((w - size[1]) / 2.))\n",
    "\n",
    "    image = image[h1:h1 + size[0], w1:w1 + size[1], :]\n",
    "    return image\n",
    "\n",
    "def rotate(cubes): # ...（旋转3D立方体的方法）\n",
    "\n",
    "    # multi-hot labels\n",
    "    # [8, H, W, D]\n",
    "    rot_cubes = copy.deepcopy(cubes) # 创建输入立方体的深层副本，以免修改原始数据\n",
    "    hor_vector = [] # 记录水平旋转的向量\n",
    "    ver_vector = [] # 记录垂直旋转的向量\n",
    "\n",
    "    for i in range(num_cubes):\n",
    "        p = random.random()  # 生成一个0到1之间的随机数\n",
    "        cube = rot_cubes[i] # 获取当前处理的立方体,这里debug看cube是个tensor，后续会出bug\n",
    "        cube_ = cube.numpy() #设置一个numpy_arrary防止np.flip bug\n",
    "        # p = 0.1 # for test\n",
    "        # [H, W, D]\n",
    "        if p < 1/3: # 如果 p 小于 1/3，表示进行水平旋转。将水平旋转的标志添加到 hor_vector，并沿x轴翻转180度。\n",
    "            hor_vector.append(1)\n",
    "            ver_vector.append(0)\n",
    "            # rotate 180 along x axis\n",
    "            # rot_cubes[i] = np.flip(cube, (1, 2)) # 沿x轴翻转180度,BUG ValueError: step must be greater than zero,最后输出的应该是numpy形式\n",
    "            cube = np.flip(cube_, (1, 2))\n",
    "            rot_cubes[i] = cube\n",
    "        elif p < 2/3: #如果 p 大于等于 1/3 且小于 2/3，表示进行垂直旋转。将垂直旋转的标志添加到 ver_vector，并沿z轴翻转180度。\n",
    "            hor_vector.append(0)\n",
    "            ver_vector.append(1)\n",
    "            # rotate 180 along z axis\n",
    "            # rot_cubes[i] = np.flip(cube, (0, 1)) # 沿z轴翻转180度\n",
    "            cube = np.flip(cube_, (0, 1))\n",
    "            rot_cubes[i] = cube\n",
    "\n",
    "        else: #如果 p 大于等于 2/3，不进行旋转，标志都设为0。\n",
    "            hor_vector.append(0)\n",
    "            ver_vector.append(0)\n",
    "\n",
    "    return rot_cubes, hor_vector, ver_vector\n",
    "\n",
    "def mask(cubes): # ...（对3D立方体应用掩码的方法）\n",
    "    mask_vector = []\n",
    "    masked_cubes = copy.deepcopy(cubes) # 创建一个输入立方体的深层副本，以免修改原始数据\n",
    "    for i in range(num_cubes):\n",
    "        cube = masked_cubes[i] # 获取当前处理的立方体\n",
    "        if random.random() < 0.5: # 如果随机数小于0.5，应用掩码\n",
    "            # mask\n",
    "            mask_vector.append(1) # 记录掩码的标志为1\n",
    "            R = np.random.uniform(0, 1, cube.shape) # 生成与立方体相同形状的随机数矩阵\n",
    "            R = (R > 0.5).astype(np.int32) # 将大于0.5的值设置为1，否则为0，形成二值掩码\n",
    "            masked_cubes[i] = cube * R # 将立方体与二值掩码相乘，进行掩码操作\n",
    "        else:\n",
    "            mask_vector.append(0) # 如果随机数大于等于0.5，不应用掩码，标志为0\n",
    "\n",
    "    return masked_cubes, mask_vector"
   ]
  },
  {
   "cell_type": "markdown",
   "metadata": {},
   "source": [
    "测试代码主体"
   ]
  },
  {
   "cell_type": "code",
   "execution_count": null,
   "metadata": {},
   "outputs": [],
   "source": [
    "input_tensor = torch.Tensor(t1)\n",
    "# input: [240, 240, 155]\n",
    "        \n",
    "input = input_tensor[:,:,0:154]\n",
    "# 截去最后一层方便分块整除\n",
    "\n",
    "if crop_size == [128, 128, 32]:\n",
    "    # input: [276, 276, 74]\n",
    "    input = center_crop_xy(input, [276, 276])\n",
    "\n",
    "    # get all the num_grids **3 cubes\n",
    "    all_cubes = crop_cubes_3d(\n",
    "        input,\n",
    "        flag=flag,\n",
    "        cubes_per_side=num_grids_per_axis,\n",
    "        cube_jitter_xy=10,\n",
    "        cube_jitter_z=5,\n",
    "    )\n",
    "    print(len(all_cubes), all_cubes[0].shape)\n",
    "\n",
    "# 这部分添加适合MRI的块大小\n",
    "# MRI数据集大小[240,240,155],为了能够整除，应该截成154的depth，设crop_size=[120，120，77],之所以做的是整除原因在于抄的上面的代码也是整除\n",
    "elif crop_size == [120, 120, 77]:\n",
    "    # input: [276, 276, 74]\n",
    "    # input = center_crop_xy(input, [276, 276])\n",
    "\n",
    "    # get all the num_grids **3 cubes\n",
    "    all_cubes = crop_cubes_3d(\n",
    "        input,\n",
    "        flag=flag,\n",
    "        cubes_per_side=num_grids_per_axis,\n",
    "        cube_jitter_xy=10,\n",
    "        cube_jitter_z=5,\n",
    "    )\n",
    "    print(len(all_cubes), all_cubes[0].shape)\n",
    "\n",
    "elif crop_size == [64, 64, 16]:\n",
    "    # input: [140, 140, 40]\n",
    "    input = ndimage.zoom(input, [140 / 320, 140 / 320, 40 / 74], order=3)\n",
    "\n",
    "    # get all the num_grids **3 cubes\n",
    "    all_cubes = crop_cubes_3d(\n",
    "        input,\n",
    "        flag=flag,\n",
    "        cubes_per_side=num_grids_per_axis,\n",
    "        cube_jitter_xy=6,\n",
    "        cube_jitter_z=4,\n",
    "    )\n",
    "\n",
    "else:\n",
    "    NotImplementedError(\"This crop size has not been configured yet\")\n",
    "    all_cubes = None\n",
    "\n",
    "# 这里all_cubes还是list形式"
   ]
  },
  {
   "cell_type": "code",
   "execution_count": null,
   "metadata": {},
   "outputs": [],
   "source": [
    "\n",
    "# Task1: Permutate the order of cubes\n",
    "rearranged_cubes, order_label = rearrange(all_cubes, K_permutations)\n",
    "\n",
    "print(rearranged_cubes.dtype)"
   ]
  },
  {
   "cell_type": "code",
   "execution_count": null,
   "metadata": {},
   "outputs": [],
   "source": [
    "# Task2: Rotate each cube randomly.\n",
    "rotated_cubes, hor_label, ver_label = rotate(rearranged_cubes)\n",
    "\n",
    "# Task2: Mask each cube randomly.\n",
    "masked_cubes, mask_label = mask(rotated_cubes)\n",
    "\n",
    "print(rotated_cubes.shape) # (8,)\n",
    "print(rotated_cubes[0].shape) # torch.Size([110, 110, 72])\n",
    "\n"
   ]
  },
  {
   "cell_type": "code",
   "execution_count": null,
   "metadata": {},
   "outputs": [],
   "source": [
    "# final_cubes = np.expand_dims(np.array(masked_cubes), axis=1) #在a xis=1的位置增加一个维度，可参文章\n",
    "final_cubes = masked_cubes.tolist() # 转为list方便转换为tensor\n",
    "final_cubes_tensors = torch.stack(torch.from_numpy(final_cubes))\n"
   ]
  },
  {
   "cell_type": "code",
   "execution_count": null,
   "metadata": {},
   "outputs": [],
   "source": [
    "\n",
    "print(final_cubes.shape) # (8, 1)\n",
    "print(final_cubes[0].shape) # (1,)\n",
    "print(final_cubes[0][0].shape) # torch.Size([110, 110, 72])\n",
    "print(final_cubes_tensors.shape) # (8, 1)\n",
    "print(final_cubes_tensors[0].shape) # (1,)\n",
    "print(final_cubes_tensors[0][0].shape) # torch.Size([110, 110, 72])\n"
   ]
  },
  {
   "cell_type": "code",
   "execution_count": null,
   "metadata": {},
   "outputs": [],
   "source": [
    "final_cubes_tensors = torch.stack(cubes)\n",
    "print(final_cubes_tensors.dtype)"
   ]
  },
  {
   "cell_type": "code",
   "execution_count": null,
   "metadata": {},
   "outputs": [],
   "source": [
    "final_cubes_list = final_cubes.tolist()\n",
    "final_cubes_tensors = torch.stack(final_cubes_list)\n",
    "print(final_cubes_tensors.dtype)"
   ]
  },
  {
   "cell_type": "markdown",
   "metadata": {},
   "source": [
    "return的结果"
   ]
  },
  {
   "cell_type": "code",
   "execution_count": null,
   "metadata": {},
   "outputs": [],
   "source": [
    "# 以下是4个要输出的值\n",
    "print(torch.from_numpy(final_cubes.astype(np.float32)))\n",
    "print(torch.from_numpy(np.array(order_label)))\n",
    "print(torch.from_numpy(np.array(hor_label)).float())\n",
    "print(torch.from_numpy(np.array(ver_label)).float())\n"
   ]
  },
  {
   "cell_type": "markdown",
   "metadata": {},
   "source": [
    "### 测试rearrange函数"
   ]
  },
  {
   "cell_type": "markdown",
   "metadata": {},
   "source": [
    "问题在rearrange函数，进行调试"
   ]
  },
  {
   "cell_type": "code",
   "execution_count": null,
   "metadata": {},
   "outputs": [],
   "source": [
    "# 创建包含8个随机张量的张量\n",
    "num_tensors = 8\n",
    "tensor_size = [110, 110, 72]\n",
    "\n",
    "random_tensors = [torch.rand(tensor_size) for _ in range(num_tensors)]\n",
    "# tensor_arry = np.array(random_tensors) # 源代码中输入的就是list，不需要转为nparrary\n",
    "\n",
    "\n",
    "# 打印结果\n",
    "print(len(random_tensors))\n",
    "print(random_tensors[0].shape) # (1,)\n"
   ]
  },
  {
   "cell_type": "code",
   "execution_count": null,
   "metadata": {},
   "outputs": [],
   "source": [
    "cubes = random_tensors\n",
    "cubes_tensor = torch.stack(cubes) # 将嵌套list转为tensor增加测试\n",
    "k_permutations_path = r'datasets_3D\\Rubik_cube\\permutaions\\permutations_hamming_max_100.npy'\n",
    "K_permutations = np.load(k_permutations_path)"
   ]
  },
  {
   "cell_type": "code",
   "execution_count": null,
   "metadata": {},
   "outputs": [],
   "source": [
    "label = random.randint(0, len(K_permutations) - 1)\n",
    "label = 50 # 设置个label方便debug"
   ]
  },
  {
   "cell_type": "code",
   "execution_count": null,
   "metadata": {},
   "outputs": [],
   "source": [
    "choosed_permutation = K_permutations[label] # 这里挑出来是nparray类型\n",
    "print(choosed_permutation)\n",
    "print(len(choosed_permutation))"
   ]
  },
  {
   "cell_type": "markdown",
   "metadata": {},
   "source": [
    "测试tensor排序"
   ]
  },
  {
   "cell_type": "code",
   "execution_count": null,
   "metadata": {},
   "outputs": [],
   "source": [
    "rearrange_cubes_tensor = cubes_tensor[choosed_permutation]\n",
    "# 检查是否相等\n",
    "are_close = torch.allclose(rearrange_cubes_tensor[2], cubes_tensor[0])\n",
    "print(are_close)\n",
    "are_close = torch.allclose(rearrange_cubes_tensor[1], cubes_tensor[0])\n",
    "print(are_close)"
   ]
  },
  {
   "cell_type": "code",
   "execution_count": null,
   "metadata": {},
   "outputs": [],
   "source": [
    "cubes_array = np.array(cubes) # 这句报警告"
   ]
  },
  {
   "cell_type": "code",
   "execution_count": null,
   "metadata": {},
   "outputs": [],
   "source": [
    "cubes_array"
   ]
  },
  {
   "cell_type": "code",
   "execution_count": null,
   "metadata": {},
   "outputs": [],
   "source": [
    "cubes_rearrange =cubes_array[np.array(K_permutations[label])] # 貌似用nparray操作最合适不会报错"
   ]
  },
  {
   "cell_type": "code",
   "execution_count": null,
   "metadata": {},
   "outputs": [],
   "source": [
    "cubes_tensor = torch.tensor(cubes)"
   ]
  },
  {
   "cell_type": "code",
   "execution_count": null,
   "metadata": {},
   "outputs": [],
   "source": [
    "cubes_rearrange =cubes[np.array(K_permutations[label])]"
   ]
  },
  {
   "cell_type": "code",
   "execution_count": null,
   "metadata": {},
   "outputs": [],
   "source": [
    "print('label', np.array(K_permutations[label]), label)\n",
    "return np.array(cubes)[np.array(K_permutations[label])], label"
   ]
  },
  {
   "cell_type": "code",
   "execution_count": null,
   "metadata": {},
   "outputs": [],
   "source": [
    "import torch\n",
    "\n",
    "# 嵌套列表\n",
    "nested_list = [\n",
    "    [1, 2, 3],\n",
    "    [4, 5, 6],\n",
    "    [7, 8, 9]\n",
    "]\n",
    "\n",
    "# 将嵌套列表转换为 PyTorch 张量\n",
    "nested_tensor = torch.tensor(nested_list)\n",
    "\n",
    "# 打印结果\n",
    "print(nested_tensor)"
   ]
  }
 ],
 "metadata": {
  "kernelspec": {
   "display_name": "base",
   "language": "python",
   "name": "python3"
  },
  "language_info": {
   "codemirror_mode": {
    "name": "ipython",
    "version": 3
   },
   "file_extension": ".py",
   "mimetype": "text/x-python",
   "name": "python",
   "nbconvert_exporter": "python",
   "pygments_lexer": "ipython3",
   "version": "3.7.16"
  }
 },
 "nbformat": 4,
 "nbformat_minor": 2
}
